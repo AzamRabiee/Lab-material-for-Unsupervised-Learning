{
 "cells": [
  {
   "cell_type": "markdown",
   "metadata": {},
   "source": [
    "### Handwritten Digits Clustering Using SOM\n",
    "\n",
    "In this code snippet, we are going to use the light weight Python library, [`SimpSOM`](https://github.com/fcomitani/SimpSOM), for Kohonen self-organizing map to cluster the handwritten digit images provided by [`scikit-learn`](https://scikit-learn.org/stable/modules/generated/sklearn.datasets.load_digits.html) package.  "
   ]
  },
  {
   "cell_type": "code",
   "execution_count": null,
   "metadata": {},
   "outputs": [],
   "source": [
    "from sklearn.datasets import load_digits\n",
    "from sklearn.model_selection import train_test_split\n",
    "from SimpSOM import somNet\n",
    "import numpy as np\n",
    "from utils import plot_2D_samples"
   ]
  },
  {
   "cell_type": "markdown",
   "metadata": {},
   "source": [
    "#### Step 1. Load Data\n",
    "The handwritten image dataset in the scikit-learn package contains 1797 samples of 10 digits (around 180\n",
    "samples per class). We use [`load_digits`](https://scikitlearn.org/stable/modules/generated/sklearn.datasets.load_digits.html) function to load the dataset. Then, the `train_test_split` shuffles the dataset and splits it randomly into two sets of train and test. \n",
    "\n",
    "If `test_size` is less than 1, it is considered as the test set percentage; otherwise, it shows the exact desired number of test samples. "
   ]
  },
  {
   "cell_type": "code",
   "execution_count": null,
   "metadata": {},
   "outputs": [],
   "source": [
    "X, y = load_digits(return_X_y=True)\n",
    "X_train, X_test, y_train, y_test = train_test_split(X, y, test_size=100)"
   ]
  },
  {
   "cell_type": "markdown",
   "metadata": {},
   "source": [
    "#### Step 2. Build, Train & Save the Model\n",
    "This step contains building, training and saving the model as follows:\n",
    "* Build a network 20x20 with a weights format taken from the train set.\n",
    "* Train the network for 10000 epochs and with initial learning rate of 0.01. \n",
    "* Save the weights to file"
   ]
  },
  {
   "cell_type": "code",
   "execution_count": null,
   "metadata": {},
   "outputs": [],
   "source": [
    "net = somNet(20, 20, X_train)\n",
    "net.train(0.01, 10000)\n",
    "net.save('filename_weights')"
   ]
  },
  {
   "cell_type": "markdown",
   "metadata": {},
   "source": [
    "##### Node Graph Plots\n",
    "We print a map of the network nodes and color them according to the tenth feature (column number 9) of the dataset, and then according to the distance between each node and its neighbours. The second graph is called **heatmap**."
   ]
  },
  {
   "cell_type": "code",
   "execution_count": null,
   "metadata": {},
   "outputs": [],
   "source": [
    "net.nodes_graph(colnum=9)\n",
    "net.diff_graph()"
   ]
  },
  {
   "cell_type": "markdown",
   "metadata": {},
   "source": [
    "##### Plot Clusters\n",
    "To project the datapoints on the new 2D network map, we utilize `project`, the `SimpSOM` built-n function to find out the corresponding activated node; then then we used our `plot_2D_samples` function to visualize it. We can repeat for both train and test sets. "
   ]
  },
  {
   "cell_type": "code",
   "execution_count": null,
   "metadata": {},
   "outputs": [],
   "source": [
    "prj = np.array(net.project(X_train))\n",
    "plot_2D_samples(prj, y_train)"
   ]
  },
  {
   "cell_type": "code",
   "execution_count": null,
   "metadata": {},
   "outputs": [],
   "source": [
    "prj = np.array(net.project(X_test))\n",
    "plot_2D_samples(prj, y_test)"
   ]
  },
  {
   "cell_type": "code",
   "execution_count": null,
   "metadata": {},
   "outputs": [],
   "source": []
  }
 ],
 "metadata": {
  "kernelspec": {
   "display_name": "Python 3",
   "language": "python",
   "name": "python3"
  },
  "language_info": {
   "codemirror_mode": {
    "name": "ipython",
    "version": 3
   },
   "file_extension": ".py",
   "mimetype": "text/x-python",
   "name": "python",
   "nbconvert_exporter": "python",
   "pygments_lexer": "ipython3",
   "version": "3.8.2"
  }
 },
 "nbformat": 4,
 "nbformat_minor": 4
}
