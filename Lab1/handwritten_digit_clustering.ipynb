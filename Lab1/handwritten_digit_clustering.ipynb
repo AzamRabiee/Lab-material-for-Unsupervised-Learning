{
 "cells": [
  {
   "cell_type": "markdown",
   "metadata": {},
   "source": [
    "### Handwritten Digits Clustering\n",
    "\n",
    "In this code snippet, you are going to practice *K-means* clustering using [`scikit-learn`](https://scikit-learn.org), which is the well-known machine learning package in Python. We cluster samples of a dataset, containing 8x8 pixel images of handwritten digits (totally 10 clusters for `0` to `9`). Then, we will see how to assign a new sample to the corresponding cluster by comparing the sample distance to the centroids."
   ]
  },
  {
   "cell_type": "code",
   "execution_count": null,
   "metadata": {},
   "outputs": [],
   "source": [
    "import numpy as np\n",
    "from sklearn.datasets import load_digits\n",
    "from sklearn.cluster import KMeans\n",
    "from sklearn.model_selection import train_test_split\n",
    "from utils import plot_images, plot_clusters, plot_centroids"
   ]
  },
  {
   "cell_type": "markdown",
   "metadata": {},
   "source": [
    "### Step 1. Load Data\n",
    "The handwritten image dataset in the `scikit-learn` package contains 1797 samples of 10 digits (around 180 samples per class). We use [`load_digits`](https://scikit-learn.org/stable/modules/generated/sklearn.datasets.load_digits.html) function to load the dataset. "
   ]
  },
  {
   "cell_type": "code",
   "execution_count": null,
   "metadata": {},
   "outputs": [],
   "source": [
    "X, y = load_digits(return_X_y=True)\n",
    "print(np.shape(X))\n",
    "plot_images(X)"
   ]
  },
  {
   "cell_type": "markdown",
   "metadata": {},
   "source": [
    "#### Split Test and Train Sets\n",
    "Using the [`train_test_split`](https://scikit-learn.org/stable/modules/generated/sklearn.model_selection.train_test_split.html) in `scikit-learn.model_selection`, you can shuffle the dataset randomly; then, split the dataset into train and test sets according to your desired train or test size."
   ]
  },
  {
   "cell_type": "code",
   "execution_count": null,
   "metadata": {
    "scrolled": true
   },
   "outputs": [],
   "source": [
    "X_train, X_test, y_train, y_test = train_test_split(X, y, test_size=20)\n",
    "\n",
    "print(\"Train set: \")\n",
    "print(np.shape(X_train))\n",
    "plot_images(X_train)\n",
    "\n",
    "print(\"Test set: \")\n",
    "print(np.shape(X_test))\n",
    "plot_images(X_test)"
   ]
  },
  {
   "cell_type": "markdown",
   "metadata": {},
   "source": [
    "### Step 2. K-means Clustering\n",
    "The [`KMeans`](https://scikit-learn.org/stable/modules/generated/sklearn.cluster.KMeans.html#sklearn.cluster.KMeans) in the `scikit-learn` package is convenient to use. The init function to initialize an instance of the class is defined as follows:\n",
    "\n",
    "`KMeans(n_clusters, n_init, max_iter)`\n",
    "* `n_clusters`: The number of clusters to form as well as the number of centroids to generate.\n",
    "* `n_init`: Number of time the k-means algorithm will be run with different centroid seeds. The final results will be the best output of n_init consecutive runs in terms of inertia.\n",
    "* `max_iter`: Maximum number of iterations of the k-means algorithm for a single run.\n",
    "\n",
    "Then, the [`fit(X=input)`](https://scikit-learn.org/stable/modules/generated/sklearn.cluster.KMeans.html#sklearn.cluster.KMeans.fit) function clusters the input into groups."
   ]
  },
  {
   "cell_type": "code",
   "execution_count": null,
   "metadata": {},
   "outputs": [],
   "source": [
    "kmeans_obj = KMeans(n_clusters=10, n_init=50, max_iter=100)\n",
    "clusters_train = kmeans_obj.fit(X_train)\n",
    "plot_clusters(X_train, clusters_train.labels_)"
   ]
  },
  {
   "cell_type": "markdown",
   "metadata": {},
   "source": [
    "### Step 3. Test New Samples\n",
    "\n",
    "The [`predict`](https://scikit-learn.org/stable/modules/generated/sklearn.cluster.KMeans.html#sklearn.cluster.KMeans.predict) function evaluates unseen samples to predict the closest cluster each sample in X belongs to. "
   ]
  },
  {
   "cell_type": "code",
   "execution_count": null,
   "metadata": {},
   "outputs": [],
   "source": [
    "clusters_test = kmeans_obj.predict(X_test)\n",
    "plot_images(X_test)\n",
    "print(clusters_test)"
   ]
  },
  {
   "cell_type": "code",
   "execution_count": null,
   "metadata": {},
   "outputs": [],
   "source": [
    "plot_centroids(clusters_train, clusters_test)"
   ]
  }
 ],
 "metadata": {
  "kernelspec": {
   "display_name": "Python 3",
   "language": "python",
   "name": "python3"
  },
  "language_info": {
   "codemirror_mode": {
    "name": "ipython",
    "version": 3
   },
   "file_extension": ".py",
   "mimetype": "text/x-python",
   "name": "python",
   "nbconvert_exporter": "python",
   "pygments_lexer": "ipython3",
   "version": "3.8.2"
  }
 },
 "nbformat": 4,
 "nbformat_minor": 4
}
