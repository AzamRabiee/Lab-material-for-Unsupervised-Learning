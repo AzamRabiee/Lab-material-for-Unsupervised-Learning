{
 "cells": [
  {
   "cell_type": "markdown",
   "metadata": {},
   "source": [
    "### Lab 2. Dimensionality Reduction\n",
    "We are going to learn dimensioanlity redcution using [`scikit-learn`](https://scikit-learn.org/stable/) python package by comparing PCA with t-SNE. Our dataset is the handwritten digits provided by the same package."
   ]
  },
  {
   "cell_type": "code",
   "execution_count": null,
   "metadata": {},
   "outputs": [],
   "source": [
    "import numpy as np\n",
    "from sklearn.datasets import load_digits\n",
    "from sklearn.decomposition import PCA\n",
    "from sklearn.preprocessing import scale\n",
    "from sklearn.manifold import TSNE\n",
    "from utils import plot_images, plot_2D_samples\n",
    "import time"
   ]
  },
  {
   "cell_type": "markdown",
   "metadata": {},
   "source": [
    "#### Step 1. Load Data\n",
    "we will load and scale the data before applying the PCA decomposition. The handwritten digits dataset can be loaded by `load_digits`. More information about the dataset is available [here](https://scikit-learn.org/stable/modules/generated/sklearn.datasets.load_digits.html)."
   ]
  },
  {
   "cell_type": "code",
   "execution_count": null,
   "metadata": {},
   "outputs": [],
   "source": [
    "X, y = load_digits(return_X_y=True)\n",
    "\n",
    "print(np.shape(X))\n",
    "plot_images(X)\n",
    "print(y[0:20])"
   ]
  },
  {
   "cell_type": "markdown",
   "metadata": {},
   "source": [
    "#### Preprocessing\n",
    "For PCA, preprocessing is a must. Data should be normalized to have zero mean and unit variance. The `scale` function in `sklearn.preprocessing` provides the z-score normalization with that purpose. "
   ]
  },
  {
   "cell_type": "code",
   "execution_count": null,
   "metadata": {},
   "outputs": [],
   "source": [
    "X = scale(X)\n",
    "print(np.shape(X))\n",
    "plot_images(X)"
   ]
  },
  {
   "cell_type": "markdown",
   "metadata": {},
   "source": [
    "#### Step 2. Reducing Dimensions by PCA  "
   ]
  },
  {
   "cell_type": "code",
   "execution_count": null,
   "metadata": {},
   "outputs": [],
   "source": [
    "tic = time.time()\n",
    "X_reduced_pca = PCA(n_components=2).fit_transform(X)\n",
    "tac = time.time()\n",
    "\n",
    "print(np.shape(X_reduced_pca))\n",
    "print(\"PCA processing time: %s sec.\" % str(tac - tic))\n",
    "plot_2D_samples(X_reduced_pca, y, \"2D samples reduced by PCA\")"
   ]
  },
  {
   "cell_type": "markdown",
   "metadata": {},
   "source": [
    "#### Step 3. Reducing Dimension by t-SNE"
   ]
  },
  {
   "cell_type": "code",
   "execution_count": null,
   "metadata": {},
   "outputs": [],
   "source": [
    "tic = time.time()\n",
    "X_reduced_tsne = TSNE(n_components=2).fit_transform(X)\n",
    "tac = time.time()\n",
    "\n",
    "print(np.shape(X_reduced_tsne))\n",
    "print(\"t-SNE processing time: %s sec.\" % str(tac - tic))\n",
    "plot_2D_samples(X_reduced_tsne, y, \"2D samples reduced by t-SNE\")"
   ]
  }
 ],
 "metadata": {
  "kernelspec": {
   "display_name": "Python 3",
   "language": "python",
   "name": "python3"
  },
  "language_info": {
   "codemirror_mode": {
    "name": "ipython",
    "version": 3
   },
   "file_extension": ".py",
   "mimetype": "text/x-python",
   "name": "python",
   "nbconvert_exporter": "python",
   "pygments_lexer": "ipython3",
   "version": "3.8.2"
  }
 },
 "nbformat": 4,
 "nbformat_minor": 4
}
