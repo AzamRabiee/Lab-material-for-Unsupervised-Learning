{
 "cells": [
  {
   "cell_type": "markdown",
   "metadata": {},
   "source": [
    "### Feature Learning for Handwritten Digits using Autoencoders in PyTorch\n",
    "\n",
    "As the first deep learning project, we are going to perform feature learning using an autoencoder network for handwritten digits. Deep network implementations are differ from typical shallow networks; we will see some of the differences in this project. \n",
    "\n",
    "As the deep learning framework, we chose [PyTorch](https://pytorch.org/) as it is easy for beginners. Installation guide is available [here](https://pytorch.org/get-started/locally/). In this implementation, our dataset is the [scikit-learn handwritten digits](https://scikit-learn.org/stable/modules/generated/sklearn.datasets.load_digits.html)."
   ]
  },
  {
   "cell_type": "code",
   "execution_count": 1,
   "metadata": {},
   "outputs": [],
   "source": [
    "import torch.nn as nn\n",
    "import torch.optim as optim\n",
    "import torch.nn.functional as F\n",
    "from torch.utils.data import DataLoader\n",
    "\n",
    "from sklearn.datasets import load_digits\n",
    "from sklearn.model_selection import train_test_split\n",
    "import numpy as np\n",
    "import time\n",
    "\n",
    "from utils import plot_loss, plot_images"
   ]
  },
  {
   "cell_type": "markdown",
   "metadata": {},
   "source": [
    "#### Constants\n",
    "One of the changes in deep learning implementations is the mini-batch processing, in which dataset is divided into mini-batches containing 16, 32, 64, or higher number of samples. Then mini-batch gradient descent is applied to handle the big data processing. Here, `BS` is the batch size. \n",
    "\n",
    "Moreover, `EPOCHs` shows the number of times the dataset is scanned in training phase. `LR` is also the learning rate.  "
   ]
  },
  {
   "cell_type": "code",
   "execution_count": 2,
   "metadata": {},
   "outputs": [],
   "source": [
    "BS = 512\n",
    "EPOCHS = 300\n",
    "LR = 1e-3"
   ]
  },
  {
   "cell_type": "markdown",
   "metadata": {},
   "source": [
    "#### 1. Load dataset"
   ]
  },
  {
   "cell_type": "code",
   "execution_count": 3,
   "metadata": {},
   "outputs": [
    {
     "name": "stdout",
     "output_type": "stream",
     "text": [
      "(1797, 64)\n"
     ]
    }
   ],
   "source": [
    "X, y = load_digits(return_X_y=True)\n",
    "print(np.shape(X))"
   ]
  },
  {
   "cell_type": "markdown",
   "metadata": {},
   "source": [
    "#### Train / Test & Mini-batch Splitting\n",
    "\n",
    "the `train_test_split` function from `scikit-learn` package helps in the train / test splitting. Then, we use **[Dataloader class](https://pytorch.org/docs/stable/data.html)** from `pytorch` for mini-batch processing on train set. The *Dataloader class* provides a python **iterable**, which is an object capable of returning its members one at a time."
   ]
  },
  {
   "cell_type": "code",
   "execution_count": 4,
   "metadata": {},
   "outputs": [
    {
     "name": "stdout",
     "output_type": "stream",
     "text": [
      "(1777, 64)\n",
      "(20, 64)\n"
     ]
    }
   ],
   "source": [
    "X_train, X_test, y_train, y_test = train_test_split(X, y, test_size=20)\n",
    "\n",
    "print(np.shape(X_train))\n",
    "print(np.shape(X_test))\n",
    "\n",
    "trainloader = DataLoader(X_train, batch_size=BS, shuffle=True)"
   ]
  },
  {
   "cell_type": "markdown",
   "metadata": {},
   "source": [
    "#### 2. Network Architecture\n",
    "\n",
    "The vanilla autoencoder contains **encoder** and **decoder** blocks. Our desired architecture has two layers in each block. We aim to use the undercomplete architecture, in which the bottleneck layer has less number of units compared to the input layer. Activation functions are ReLU as the input is density of image pixels that are numbers from 0 to 16.  \n",
    "\n",
    "In followings, we define a class named `Autoencoder`, inherited from **[nn.Module class](https://pytorch.org/docs/master/generated/torch.nn.Module.html)** provided by pytorch for deep network architectures.  "
   ]
  },
  {
   "cell_type": "code",
   "execution_count": 9,
   "metadata": {},
   "outputs": [
    {
     "name": "stdout",
     "output_type": "stream",
     "text": [
      "Autoencoder(\n",
      "  (enc1): Linear(in_features=64, out_features=32, bias=True)\n",
      "  (enc2): Linear(in_features=32, out_features=10, bias=True)\n",
      "  (dec1): Linear(in_features=10, out_features=32, bias=True)\n",
      "  (dec2): Linear(in_features=32, out_features=64, bias=True)\n",
      ")\n"
     ]
    }
   ],
   "source": [
    "class Autoencoder(nn.Module):\n",
    "    def __init__(self):\n",
    "        super(Autoencoder, self).__init__()\n",
    "        \n",
    "        #encoder\n",
    "        self.enc1 = nn.Linear(in_features=64, out_features=32)\n",
    "        self.enc2 = nn.Linear(in_features=32, out_features=10)\n",
    "        #decoder\n",
    "        self.dec1 = nn.Linear(in_features=10, out_features=32)\n",
    "        self.dec2 = nn.Linear(in_features=32, out_features=64)\n",
    "    \n",
    "    def forward(self, x):\n",
    "        x = F.relu(self.enc1(x))\n",
    "        x = F.relu(self.enc2(x))\n",
    "        x = F.relu(self.dec1(x))\n",
    "        x = F.relu(self.dec2(x))\n",
    "        return x\n",
    "\n",
    "    def features(self, x):\n",
    "        x = F.relu(self.enc1(x))\n",
    "        x = F.relu(self.enc2(x))\n",
    "        return x\n",
    "\n",
    "net = Autoencoder()\n",
    "print(net)"
   ]
  },
  {
   "cell_type": "markdown",
   "metadata": {},
   "source": [
    "#### 3. Train\n",
    "After *data preparation* and *network design*, the training step comes. For training, every machine learning project needs a **cost function** and an **optimization algorithm**. In this implementation, we chose [mean square error (MSE)](https://en.wikipedia.org/wiki/Mean_squared_error#:~:text=In%20statistics%2C%20the%20mean%20squared,values%20and%20the%20actual%20value.) as the cost function and [Adam optimizer](https://arxiv.org/abs/1412.6980). We utilize the **[nn.MSELoss class](https://pytorch.org/docs/master/generated/torch.nn.MSELoss.html)** and **[optim.Adam class](https://pytorch.org/docs/stable/optim.html#torch.optim.Adam)** provided by prtoch for each one, respectively.    \n",
    "\n",
    "The main loop for training repeats for `EPOCHS` times. In every itertation, we calculate the loss and apply the optimizer on the trainable parameters in the network. Keeping the average loss values for each epoch, we plot the training loss curve at the end. "
   ]
  },
  {
   "cell_type": "code",
   "execution_count": 15,
   "metadata": {},
   "outputs": [
    {
     "ename": "SyntaxError",
     "evalue": "EOL while scanning string literal (<ipython-input-15-258fbe947e98>, line 19)",
     "output_type": "error",
     "traceback": [
      "\u001b[1;36m  File \u001b[1;32m\"<ipython-input-15-258fbe947e98>\"\u001b[1;36m, line \u001b[1;32m19\u001b[0m\n\u001b[1;33m    print(\"Training is done in \" + str(tac-tic) + \" sec.\u001b[0m\n\u001b[1;37m                                                        ^\u001b[0m\n\u001b[1;31mSyntaxError\u001b[0m\u001b[1;31m:\u001b[0m EOL while scanning string literal\n"
     ]
    }
   ],
   "source": [
    "criterion = nn.MSELoss()\n",
    "optimizer = optim.Adam(net.parameters(), lr=LR)\n",
    "\n",
    "tic = time.time()\n",
    "train_loss = []\n",
    "for epoch in range(EPOCHS):\n",
    "    running_loss = 0.0\n",
    "    for batch in trainloader:\n",
    "        optimizer.zero_grad()\n",
    "        outputs = net(batch.float())\n",
    "        loss = criterion(outputs, batch.float())\n",
    "        loss.backward()\n",
    "        optimizer.step()\n",
    "        running_loss += loss.item()\n",
    "    \n",
    "    loss = running_loss / len(trainloader)\n",
    "    train_loss.append(loss)\n",
    "tac = time.time()\n",
    "print(\"Training is done in \" + str(tac-tic) + \" sec.\"\"\n",
    "\n",
    "print(\"last loss value: \" + str(loss))\n",
    "plot_loss(train_loss)"
   ]
  },
  {
   "cell_type": "markdown",
   "metadata": {},
   "source": [
    "#### 4. Test\n",
    "Now, we can check how well the network can reconstruct test samples with the following code snippet.  "
   ]
  },
  {
   "cell_type": "code",
   "execution_count": 13,
   "metadata": {},
   "outputs": [
    {
     "data": {
      "image/png": "[encoded data removed]",
      "text/plain": [
       "<Figure size 432x288 with 20 Axes>"
      ]
     },
     "metadata": {
      "needs_background": "light"
     },
     "output_type": "display_data"
    },
    {
     "data": {
      "image/png": "[encoded data removed]",
      "text/plain": [
       "<Figure size 432x288 with 20 Axes>"
      ]
     },
     "metadata": {
      "needs_background": "light"
     },
     "output_type": "display_data"
    }
   ],
   "source": [
    "testloader = DataLoader(X_test, batch_size=20)\n",
    "\n",
    "for batch in testloader:\n",
    "    plot_images(batch)\n",
    "    outputs = net(batch.float())\n",
    "    plot_images(outputs.detach().numpy())"
   ]
  },
  {
   "cell_type": "code",
   "execution_count": null,
   "metadata": {},
   "outputs": [],
   "source": []
  }
 ],
 "metadata": {
  "kernelspec": {
   "display_name": "Python 3",
   "language": "python",
   "name": "python3"
  },
  "language_info": {
   "codemirror_mode": {
    "name": "ipython",
    "version": 3
   },
   "file_extension": ".py",
   "mimetype": "text/x-python",
   "name": "python",
   "nbconvert_exporter": "python",
   "pygments_lexer": "ipython3",
   "version": "3.8.2"
  }
 },
 "nbformat": 4,
 "nbformat_minor": 4
}
